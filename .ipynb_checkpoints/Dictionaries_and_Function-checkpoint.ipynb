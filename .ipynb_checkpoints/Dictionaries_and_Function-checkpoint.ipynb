{
 "cells": [
  {
   "cell_type": "markdown",
   "id": "179910f1",
   "metadata": {},
   "source": [
    "Question 1.1"
   ]
  },
  {
   "cell_type": "code",
   "execution_count": 9,
   "id": "e64330c4",
   "metadata": {},
   "outputs": [
    {
     "name": "stdout",
     "output_type": "stream",
     "text": [
      "Enter first side of the triangle: 3\n",
      "Enter second side of the triangle: 4\n",
      "Enter third side of the triangle: 5\n",
      "6.0\n"
     ]
    }
   ],
   "source": [
    "class triangle:\n",
    "    \n",
    "    def __init__(self):\n",
    "        \n",
    "        self.a = 0.0\n",
    "        self.b = 0.0\n",
    "        self.c = 0.0\n",
    "    \n",
    "    def sidesOfTriangle(self):\n",
    "        '''\n",
    "        Description : Reads the sides of a triangle from the user.\n",
    "        '''\n",
    "        self.a = float(input('Enter first side of the triangle: '))\n",
    "        self.b = float(input('Enter second side of the triangle: '))\n",
    "        self.c = float(input('Enter third side of the triangle: '))\n",
    "\n",
    "class calculateArea(triangle):\n",
    "    \n",
    "    def area(self):\n",
    "        '''\n",
    "        Description : Calculates the area of the triangle using heron's formula\n",
    "        '''\n",
    "        self.sidesOfTriangle()\n",
    "        s = (self.a + self.b + self.c)/2\n",
    "        area = ( s*(s - self.a)*(s - self.b)*(s - self.c) )**0.5\n",
    "        return area\n",
    "    \n",
    "area = calculateArea().area()\n",
    "print(area)\n"
   ]
  },
  {
   "cell_type": "markdown",
   "id": "4f09a4b1",
   "metadata": {},
   "source": [
    "Question 1.2"
   ]
  },
  {
   "cell_type": "code",
   "execution_count": 13,
   "id": "894c4e87",
   "metadata": {},
   "outputs": [
    {
     "name": "stdout",
     "output_type": "stream",
     "text": [
      "['helicopter', 'machine_learning']\n"
     ]
    }
   ],
   "source": [
    "def filter_long_words(word_list,n):\n",
    "    \n",
    "    result_list = []\n",
    "    for word in word_list:\n",
    "        if len(word) > n:\n",
    "            result_list.append(word)\n",
    "    return result_list\n",
    "\n",
    "l = ['hello','helicopter','country','ferrari','machine_learning']\n",
    "print(filter_long_words(l,7))"
   ]
  },
  {
   "cell_type": "markdown",
   "id": "0a6bfce0",
   "metadata": {},
   "source": [
    "Question 2.1"
   ]
  },
  {
   "cell_type": "code",
   "execution_count": 14,
   "id": "498c0aa3",
   "metadata": {},
   "outputs": [
    {
     "name": "stdout",
     "output_type": "stream",
     "text": [
      "[5, 10, 7, 7, 16]\n"
     ]
    }
   ],
   "source": [
    "def word_len(word_list):\n",
    "    \n",
    "    result_list = []\n",
    "    for word in word_list:\n",
    "        result_list.append(len(word))\n",
    "    return result_list\n",
    "\n",
    "l = ['hello','helicopter','country','ferrari','machine_learning']\n",
    "print(word_len(l))"
   ]
  },
  {
   "cell_type": "markdown",
   "id": "f692969f",
   "metadata": {},
   "source": [
    "Question 2.2"
   ]
  },
  {
   "cell_type": "code",
   "execution_count": 16,
   "id": "b4ed2a90",
   "metadata": {},
   "outputs": [
    {
     "name": "stdout",
     "output_type": "stream",
     "text": [
      "True\n",
      "False\n"
     ]
    }
   ],
   "source": [
    "def is_vowel(s):\n",
    "    \n",
    "    vowel_list = ['a','e','i','o','u']\n",
    "    if s in vowel_list:\n",
    "        return True\n",
    "    else:\n",
    "        return False\n",
    "    \n",
    "print(is_vowel('a'))\n",
    "print(is_vowel('b'))"
   ]
  },
  {
   "cell_type": "code",
   "execution_count": null,
   "id": "80e507fa",
   "metadata": {},
   "outputs": [],
   "source": []
  }
 ],
 "metadata": {
  "kernelspec": {
   "display_name": "Python 3",
   "language": "python",
   "name": "python3"
  },
  "language_info": {
   "codemirror_mode": {
    "name": "ipython",
    "version": 3
   },
   "file_extension": ".py",
   "mimetype": "text/x-python",
   "name": "python",
   "nbconvert_exporter": "python",
   "pygments_lexer": "ipython3",
   "version": "3.8.8"
  }
 },
 "nbformat": 4,
 "nbformat_minor": 5
}
