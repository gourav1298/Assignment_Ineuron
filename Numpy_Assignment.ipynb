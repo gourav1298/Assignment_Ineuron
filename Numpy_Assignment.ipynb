{
 "cells": [
  {
   "cell_type": "code",
   "execution_count": 1,
   "id": "233c317d",
   "metadata": {},
   "outputs": [],
   "source": [
    "import numpy as np"
   ]
  },
  {
   "cell_type": "markdown",
   "id": "eff58029",
   "metadata": {},
   "source": [
    "Question 1"
   ]
  },
  {
   "cell_type": "code",
   "execution_count": 22,
   "id": "b4a87276",
   "metadata": {},
   "outputs": [],
   "source": [
    "# Done using the build-in library of numpy\n",
    "\n",
    "def vandermonde_matrix(array):\n",
    "    return np.vander(array)"
   ]
  },
  {
   "cell_type": "code",
   "execution_count": 23,
   "id": "6fe42ca3",
   "metadata": {},
   "outputs": [
    {
     "data": {
      "text/plain": [
       "array([[  1,   1,   1,   1,   1],\n",
       "       [ 16,   8,   4,   2,   1],\n",
       "       [ 81,  27,   9,   3,   1],\n",
       "       [256,  64,  16,   4,   1],\n",
       "       [625, 125,  25,   5,   1]])"
      ]
     },
     "execution_count": 23,
     "metadata": {},
     "output_type": "execute_result"
    }
   ],
   "source": [
    "vandermonde_matrix([1,2,3,4,5])"
   ]
  },
  {
   "cell_type": "code",
   "execution_count": 26,
   "id": "bc399f39",
   "metadata": {},
   "outputs": [],
   "source": [
    "# Done without using numpy library\n",
    "\n",
    "def my_vander(array):\n",
    "    l = []\n",
    "    n = len(array)\n",
    "    for i in range(n):\n",
    "        temp = []\n",
    "        for j in range(n):\n",
    "            e = array[i]**(n-j-1)\n",
    "            temp.append(e)\n",
    "        l.append(temp)\n",
    "    return(np.array(l))"
   ]
  },
  {
   "cell_type": "code",
   "execution_count": 27,
   "id": "272f1553",
   "metadata": {},
   "outputs": [
    {
     "data": {
      "text/plain": [
       "array([[  1,   1,   1,   1,   1],\n",
       "       [ 16,   8,   4,   2,   1],\n",
       "       [ 81,  27,   9,   3,   1],\n",
       "       [256,  64,  16,   4,   1],\n",
       "       [625, 125,  25,   5,   1]])"
      ]
     },
     "execution_count": 27,
     "metadata": {},
     "output_type": "execute_result"
    }
   ],
   "source": [
    "my_vander([1,2,3,4,5])"
   ]
  },
  {
   "cell_type": "markdown",
   "id": "31ec8a14",
   "metadata": {},
   "source": [
    "Question 2"
   ]
  },
  {
   "cell_type": "code",
   "execution_count": 51,
   "id": "e8df83ac",
   "metadata": {},
   "outputs": [],
   "source": [
    "def moving_average(array,k):\n",
    "    result=[]\n",
    "    n = len(array)\n",
    "    for i in range(n-k+1):\n",
    "        avg = round(sum(array[i:i+k])/k,2)\n",
    "        result.append(avg)\n",
    "    return(result)"
   ]
  },
  {
   "cell_type": "code",
   "execution_count": 52,
   "id": "8ca3c92e",
   "metadata": {},
   "outputs": [
    {
     "data": {
      "text/plain": [
       "[5.0, 4.67, 5.67, 6.67, 9.67, 28.67, 49.33, 72.67, 84.0, 93.33, 116.33]"
      ]
     },
     "execution_count": 52,
     "metadata": {},
     "output_type": "execute_result"
    }
   ],
   "source": [
    "moving_average([3, 5, 7, 2, 8, 10, 11, 65, 72, 81, 99, 100, 150],3)  "
   ]
  },
  {
   "cell_type": "code",
   "execution_count": null,
   "id": "0460bbec",
   "metadata": {},
   "outputs": [],
   "source": []
  }
 ],
 "metadata": {
  "kernelspec": {
   "display_name": "Python 3",
   "language": "python",
   "name": "python3"
  },
  "language_info": {
   "codemirror_mode": {
    "name": "ipython",
    "version": 3
   },
   "file_extension": ".py",
   "mimetype": "text/x-python",
   "name": "python",
   "nbconvert_exporter": "python",
   "pygments_lexer": "ipython3",
   "version": "3.8.8"
  }
 },
 "nbformat": 4,
 "nbformat_minor": 5
}
